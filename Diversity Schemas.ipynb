{
 "cells": [
  {
   "cell_type": "code",
   "execution_count": 1,
   "id": "6c71d08c",
   "metadata": {
    "ExecuteTime": {
     "end_time": "2023-02-06T14:31:22.440645Z",
     "start_time": "2023-02-06T14:31:22.373639Z"
    }
   },
   "outputs": [],
   "source": [
    "import numpy as np\n",
    "from itertools import combinations"
   ]
  },
  {
   "cell_type": "markdown",
   "id": "6e7927a4",
   "metadata": {},
   "source": [
    "# cal_V_Diversity"
   ]
  },
  {
   "cell_type": "code",
   "execution_count": 2,
   "id": "597fcb2e",
   "metadata": {
    "ExecuteTime": {
     "end_time": "2023-02-06T14:31:22.456648Z",
     "start_time": "2023-02-06T14:31:22.441646Z"
    }
   },
   "outputs": [
    {
     "data": {
      "text/plain": [
       "1"
      ]
     },
     "execution_count": 2,
     "metadata": {},
     "output_type": "execute_result"
    }
   ],
   "source": [
    "def cal_V_Diversity(n):\n",
    "    '''\n",
    "    '''\n",
    "    V_Diversity=n\n",
    "    return V_Diversity\n",
    "\n",
    "cal_V_Diversity(1)"
   ]
  },
  {
   "cell_type": "markdown",
   "id": "9661d82c",
   "metadata": {},
   "source": [
    "# cal_B_Diversity"
   ]
  },
  {
   "cell_type": "code",
   "execution_count": 3,
   "id": "6c113c3c",
   "metadata": {
    "ExecuteTime": {
     "end_time": "2023-02-06T14:31:22.472110Z",
     "start_time": "2023-02-06T14:31:22.457650Z"
    }
   },
   "outputs": [
    {
     "data": {
      "text/plain": [
       "0.5544923070581675"
      ]
     },
     "execution_count": 3,
     "metadata": {},
     "output_type": "execute_result"
    }
   ],
   "source": [
    "def cal_B_Diversity(entityid_papernum: dict):\n",
    "    '''\n",
    "    entityid: papernum\n",
    "    '''\n",
    "    PMnum_sum=sum(entityid_papernum.values())\n",
    "    \n",
    "    if PMnum_sum==0:\n",
    "        return 0\n",
    "    \n",
    "    B_Diversity=0\n",
    "    for entityid,papernum in entityid_papernum.items():\n",
    "        prob=papernum/PMnum_sum \n",
    "        B_Diversity -= prob*np.log(prob)\n",
    "\n",
    "    B_Diversity=B_Diversity/np.log(PMnum_sum)\n",
    "    return B_Diversity\n",
    "\n",
    "cal_B_Diversity({'a':2,'b':3,'c':2})"
   ]
  },
  {
   "cell_type": "markdown",
   "id": "8532646a",
   "metadata": {},
   "source": [
    "# cal_D_Diversity"
   ]
  },
  {
   "cell_type": "code",
   "execution_count": 4,
   "id": "6dcf81ad",
   "metadata": {
    "ExecuteTime": {
     "end_time": "2023-02-06T14:31:22.488118Z",
     "start_time": "2023-02-06T14:31:22.473111Z"
    }
   },
   "outputs": [
    {
     "data": {
      "text/plain": [
       "0.0038610616431661304"
      ]
     },
     "execution_count": 4,
     "metadata": {},
     "output_type": "execute_result"
    }
   ],
   "source": [
    "def cos_sim(vector_a, vector_b):\n",
    "    \"\"\"\n",
    "    :param vector_a\n",
    "    :param vector_b\n",
    "    :return: sim\n",
    "    \"\"\"\n",
    "    vector_a = np.mat(vector_a)\n",
    "    vector_b = np.mat(vector_b)\n",
    "    num = float(vector_a * vector_b.T)\n",
    "    denom = np.linalg.norm(vector_a) * np.linalg.norm(vector_b)\n",
    "    cos = num / denom\n",
    "    sim = 0.5 + 0.5 * cos\n",
    "    return sim\n",
    "\n",
    "def cal_D_Diversity(entityid_embedding: dict):\n",
    "    d=[]\n",
    "    for entityid1,entityid2 in list(combinations(entityid_embedding.keys(),2)):\n",
    "        embedding1=entityid_embedding[entityid1]\n",
    "        embedding2=entityid_embedding[entityid2]\n",
    "        sim=cos_sim(embedding1,embedding2)\n",
    "        d.append(1-sim)\n",
    "    D_Diversity=np.mean(d)\n",
    "    return D_Diversity\n",
    "\n",
    "cal_D_Diversity({'a':[1,2],'b':[2,3]})"
   ]
  },
  {
   "cell_type": "markdown",
   "id": "5b7cb65c",
   "metadata": {},
   "source": [
    "# cal_VB_Diversity"
   ]
  },
  {
   "cell_type": "code",
   "execution_count": 5,
   "id": "1c6c0245",
   "metadata": {
    "ExecuteTime": {
     "end_time": "2023-02-06T14:31:22.504117Z",
     "start_time": "2023-02-06T14:31:22.489119Z"
    }
   },
   "outputs": [
    {
     "data": {
      "text/plain": [
       "0.653061224489796"
      ]
     },
     "execution_count": 5,
     "metadata": {},
     "output_type": "execute_result"
    }
   ],
   "source": [
    "def cal_VB_Diversity(entityid_papernum: dict):\n",
    "    '''\n",
    "    entityid: papernum\n",
    "    '''\n",
    "    PMnum_sum=sum(entityid_papernum.values())\n",
    "    \n",
    "    VB_Diversity=0\n",
    "    \n",
    "    for topic,PMnum_e in entityid_papernum.items():\n",
    "        VB_Diversity+=(PMnum_e/PMnum_sum)**2\n",
    "        \n",
    "    VB_Diversity=1-VB_Diversity\n",
    "    \n",
    "    return VB_Diversity\n",
    "cal_VB_Diversity({'a':2,'b':3,'c':2})"
   ]
  },
  {
   "cell_type": "markdown",
   "id": "0be3d481",
   "metadata": {},
   "source": [
    "# cal_VD_Diversity"
   ]
  },
  {
   "cell_type": "code",
   "execution_count": 6,
   "id": "bdf8de9a",
   "metadata": {
    "ExecuteTime": {
     "end_time": "2023-02-06T14:31:22.520118Z",
     "start_time": "2023-02-06T14:31:22.505119Z"
    }
   },
   "outputs": [
    {
     "data": {
      "text/plain": [
       "3.414213562373095"
      ]
     },
     "execution_count": 6,
     "metadata": {},
     "output_type": "execute_result"
    }
   ],
   "source": [
    "def cal_VD_Diversity(entityid_embedding: dict):\n",
    "    d=[]\n",
    "    for entityid1,entityid2 in list(combinations(entityid_embedding.keys(),2)):\n",
    "        embedding1=entityid_embedding[entityid1]\n",
    "        embedding2=entityid_embedding[entityid2]\n",
    "        sim=oij=np.linalg.norm(embedding1-embedding2) \n",
    "        d.append(sim)\n",
    "    VD_Diversity=np.sum(d)\n",
    "    return VD_Diversity\n",
    "\n",
    "cal_VD_Diversity({'a':np.array([1,2]),'b':np.array([2,3]),'c':np.array([1,3])})"
   ]
  },
  {
   "cell_type": "markdown",
   "id": "da5f5df7",
   "metadata": {},
   "source": [
    "# cal_VBD_Diversity"
   ]
  },
  {
   "cell_type": "code",
   "execution_count": 7,
   "id": "42d74513",
   "metadata": {
    "ExecuteTime": {
     "end_time": "2023-02-06T14:31:22.536117Z",
     "start_time": "2023-02-06T14:31:22.521119Z"
    }
   },
   "outputs": [
    {
     "data": {
      "text/plain": [
       "1.3594567648471303e-17"
      ]
     },
     "execution_count": 7,
     "metadata": {},
     "output_type": "execute_result"
    }
   ],
   "source": [
    "def cal_VBD_Diversity(entityid_papernum: dict,entityid_embedding: dict):\n",
    "    \n",
    "    PMnum_sum=sum(entityid_papernum.values())\n",
    "    vbd=[]\n",
    "    for entityid1,entityid2 in list(combinations(entityid_embedding.keys(),2)):\n",
    "        embedding1=entityid_embedding[entityid1]\n",
    "        embedding2=entityid_embedding[entityid2]\n",
    "        pi=entityid_papernum[entityid1]/PMnum_sum\n",
    "        pj=entityid_papernum[entityid2]/PMnum_sum\n",
    "        dij=1-cos_sim(embedding1,embedding2)\n",
    "        sij=dij*pi*pj\n",
    "        vbd.append(sij)\n",
    "    VBD_Diversity=np.sum(vbd)\n",
    "    return VBD_Diversity\n",
    "cal_VBD_Diversity({'a':2,'b':3,'c':2},{'a':[1,2],'b':[2,4]})"
   ]
  },
  {
   "cell_type": "code",
   "execution_count": null,
   "id": "c6c8ada7",
   "metadata": {},
   "outputs": [],
   "source": []
  }
 ],
 "metadata": {
  "kernelspec": {
   "display_name": "Python 3 (ipykernel)",
   "language": "python",
   "name": "python3"
  },
  "language_info": {
   "codemirror_mode": {
    "name": "ipython",
    "version": 3
   },
   "file_extension": ".py",
   "mimetype": "text/x-python",
   "name": "python",
   "nbconvert_exporter": "python",
   "pygments_lexer": "ipython3",
   "version": "3.9.12"
  },
  "toc": {
   "base_numbering": 1,
   "nav_menu": {},
   "number_sections": true,
   "sideBar": true,
   "skip_h1_title": false,
   "title_cell": "Table of Contents",
   "title_sidebar": "Contents",
   "toc_cell": false,
   "toc_position": {},
   "toc_section_display": true,
   "toc_window_display": true
  }
 },
 "nbformat": 4,
 "nbformat_minor": 5
}
